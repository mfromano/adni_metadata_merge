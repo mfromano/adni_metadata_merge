{
 "cells": [
  {
   "cell_type": "code",
   "execution_count": 151,
   "metadata": {},
   "outputs": [],
   "source": [
    "import pandas as pd\n",
    "\n",
    "import re\n",
    "\n",
    "adni_mri_and_pet = pd.read_csv('/home/mfromano/Research/alzheimers/data/adni_aibl_all.csv')\n",
    "\n",
    "# identify individuals with MRI scans in each\n",
    "\n",
    "rpharm = ['11C-PIB', '[11C]PIB','[11C]PIB[11C]PIB']\n",
    "\n",
    "def filter_modality(csv, modality):\n",
    "    adni_all_mod = csv[csv.Modality == modality]\n",
    "    adni_all_mod.columns = adni_all_mod.columns.str.strip().str.replace(' ','_')\n",
    "    return adni_all_mod"
   ]
  },
  {
   "cell_type": "code",
   "execution_count": 152,
   "metadata": {},
   "outputs": [],
   "source": [
    "adni_all_pet = filter_modality(adni_mri_and_pet,'PET')\n"
   ]
  },
  {
   "cell_type": "code",
   "execution_count": 153,
   "metadata": {},
   "outputs": [
    {
     "data": {
      "text/plain": [
       "'Slice Thickness=2.0;Manufacturer=Philips Medical Systems;Mfg Model=GEMINI TF TOF 16;Radioisotope=F-18;Radiopharmaceutical=18F-FDG;Frames=6.0'"
      ]
     },
     "execution_count": 153,
     "metadata": {},
     "output_type": "execute_result"
    }
   ],
   "source": [
    "adni_all_pet.Imaging_Protocol.iloc[0]"
   ]
  },
  {
   "cell_type": "code",
   "execution_count": 209,
   "metadata": {},
   "outputs": [
    {
     "data": {
      "text/plain": [
       "<bound method NDFrame.head of 71        Slice Thickness=2.0;Manufacturer=Philips Medic...\n",
       "72        Slice Thickness=2.0;Manufacturer=Philips Medic...\n",
       "175       Slice Thickness=2.0;Manufacturer=Philips Medic...\n",
       "176       Slice Thickness=2.0;Manufacturer=Philips Medic...\n",
       "188       Slice Thickness=2.0;Manufacturer=Philips Medic...\n",
       "                                ...                        \n",
       "115793    Slice Thickness=2.0;Manufacturer=Philips Medic...\n",
       "115796    Slice Thickness=3.0;Manufacturer=SIEMENS;Mfg M...\n",
       "115800    Slice Thickness=3.0;Manufacturer=SIEMENS;Mfg M...\n",
       "115810    Slice Thickness=2.0;Manufacturer=Philips Medic...\n",
       "115823    Slice Thickness=2.0;Manufacturer=Philips Medic...\n",
       "Name: Imaging_Protocol, Length: 9963, dtype: object>"
      ]
     },
     "execution_count": 209,
     "metadata": {},
     "output_type": "execute_result"
    }
   ],
   "source": [
    "def radio_pharm(text):\n",
    "    text_match = re.search(r'(?<=Radiopharmaceutical\\=).*(?=;)',text)\n",
    "    if text_match == None:\n",
    "        text_match = re.search(r'(?<=Radioisotope\\=).*(?=;)',text)\n",
    "        return text_match.group(0)\n",
    "    return text_match.group(0)\n",
    "protocols = adni_all_pet.Imaging_Protocol\n",
    "protocols.head"
   ]
  },
  {
   "cell_type": "code",
   "execution_count": 216,
   "metadata": {},
   "outputs": [
    {
     "data": {
      "text/plain": [
       "71           18F-FDG\n",
       "72          18F-AV45\n",
       "175          18F-FDG\n",
       "176         18F-AV45\n",
       "188         18F-AV45\n",
       "             ...    \n",
       "115793          C-11\n",
       "115796    FLUMETAMOL\n",
       "115800    FLUMETAMOL\n",
       "115810          C-11\n",
       "115823          C-11\n",
       "Name: Imaging_Protocol, Length: 9963, dtype: object"
      ]
     },
     "execution_count": 216,
     "metadata": {},
     "output_type": "execute_result"
    }
   ],
   "source": [
    "protocols = protocols.apply(radio_pharm)\n",
    "protocols"
   ]
  },
  {
   "cell_type": "code",
   "execution_count": 190,
   "metadata": {},
   "outputs": [
    {
     "data": {
      "text/plain": [
       "Subject_ID                                                            98\n",
       "Project                                                             AIBL\n",
       "Phase                                                                NaN\n",
       "Sex                                                                    F\n",
       "Weight                                                              52.7\n",
       "Research_Group                                                   Patient\n",
       "APOE_A1                                                              NaN\n",
       "APOE_A2                                                              NaN\n",
       "Visit                                                 54 Month follow-up\n",
       "Study_Date                                                     2/10/2012\n",
       "Archive_Date                                                   2/22/2015\n",
       "Age                                                                   70\n",
       "Global_CDR                                                           NaN\n",
       "NPI-Q_Total_Score                                                    NaN\n",
       "MMSE_Total_Score                                                     NaN\n",
       "GDSCALE_Total_Score                                                  NaN\n",
       "FAQ_Total_Score                                                      NaN\n",
       "Modality                                                             PET\n",
       "Description                              summed.img: RSRCH_Brain_Dynamic\n",
       "Imaging_Protocol       Slice Thickness=2.0;Manufacturer=Philips Medic...\n",
       "Image_ID                                                          474294\n",
       "Name: 115793, dtype: object"
      ]
     },
     "execution_count": 190,
     "metadata": {},
     "output_type": "execute_result"
    }
   ],
   "source": [
    "adni_all_pet.loc[115793]"
   ]
  },
  {
   "cell_type": "code",
   "execution_count": 191,
   "metadata": {},
   "outputs": [
    {
     "data": {
      "text/plain": [
       "Subject_ID                                                           993\n",
       "Project                                                             AIBL\n",
       "Phase                                                                NaN\n",
       "Sex                                                                    M\n",
       "Weight                                                              84.7\n",
       "Research_Group                                                   Patient\n",
       "APOE_A1                                                              NaN\n",
       "APOE_A2                                                              NaN\n",
       "Visit                                                 18 Month follow-up\n",
       "Study_Date                                                    11/27/2009\n",
       "Archive_Date                                                  11/09/2010\n",
       "Age                                                                   63\n",
       "Global_CDR                                                           NaN\n",
       "NPI-Q_Total_Score                                                    NaN\n",
       "MMSE_Total_Score                                                     NaN\n",
       "GDSCALE_Total_Score                                                  NaN\n",
       "FAQ_Total_Score                                                      NaN\n",
       "Modality                                                             PET\n",
       "Description                               summed.img: Brain-Jan-PIB-DYN2\n",
       "Imaging_Protocol       Slice Thickness=2.0;Manufacturer=Philips Medic...\n",
       "Image_ID                                                          203989\n",
       "Name: 115823, dtype: object"
      ]
     },
     "execution_count": 191,
     "metadata": {},
     "output_type": "execute_result"
    }
   ],
   "source": [
    "adni_all_pet.loc[115823]"
   ]
  },
  {
   "cell_type": "code",
   "execution_count": 192,
   "metadata": {},
   "outputs": [],
   "source": [
    "# now filter the original dataset, collecting only those pts w/ 11C PET imaging\n",
    "adni_all_pet_c11 = adni_all_pet.loc[protocols.index]\n",
    "\n",
    "# load the dataset containing only PET data, make sure that these are identical sans the C-11 data"
   ]
  },
  {
   "cell_type": "code",
   "execution_count": 193,
   "metadata": {},
   "outputs": [],
   "source": [
    "adni_aibl_mri_or_pet = pd.read_csv('/home/mfromano/Research/alzheimers/data/adni_aibl_11C_or_18F.csv')\n",
    "adni_aibl_mri_and_pet = pd.read_csv('/home/mfromano/Research/alzheimers/data/adni_aibl_11C_and_18F.csv')"
   ]
  },
  {
   "cell_type": "code",
   "execution_count": 229,
   "metadata": {},
   "outputs": [
    {
     "data": {
      "text/plain": [
       "176     Slice Thickness=2.0;Manufacturer=Philips Medic...\n",
       "863     Slice Thickness=2.0;Manufacturer=Philips Medic...\n",
       "983     Slice Thickness=2.0;Manufacturer=Philips Medic...\n",
       "1191    Slice Thickness=2.0;Manufacturer=Philips Medic...\n",
       "1192    Slice Thickness=2.0;Manufacturer=Philips Medic...\n",
       "Name: Imaging_Protocol, dtype: object"
      ]
     },
     "execution_count": 229,
     "metadata": {},
     "output_type": "execute_result"
    }
   ],
   "source": [
    "protocols_mri_or_pet = filter_modality(adni_aibl_mri_or_pet,'PET')\n",
    "protocols_mri_or_pet = protocols_mri_or_pet.Imaging_Protocol\n",
    "protocols_mri_and_pet = filter_modality(adni_aibl_mri_and_pet,'PET')\n",
    "protocols_mri_and_pet = protocols_mri_and_pet.Imaging_Protocol\n",
    "protocols_mri_or_pet.head()"
   ]
  },
  {
   "cell_type": "code",
   "execution_count": 230,
   "metadata": {},
   "outputs": [
    {
     "name": "stdout",
     "output_type": "stream",
     "text": [
      "length or: 1490, length and: 1468\n"
     ]
    }
   ],
   "source": [
    "protocols_mri_or_pet = protocols_mri_or_pet.apply(radio_pharm)\n",
    "protocols_mri_and_pet = protocols_mri_and_pet.apply(radio_pharm)\n",
    "\n",
    "print('length ''or'': {}, length ''and'': {}'.format(len(protocols_mri_or_pet),len(protocols_mri_and_pet)))\n",
    "c11_scan = lambda x: x in rpharm"
   ]
  },
  {
   "cell_type": "code",
   "execution_count": 247,
   "metadata": {},
   "outputs": [
    {
     "data": {
      "text/plain": [
       "176      False\n",
       "863      False\n",
       "983      False\n",
       "1191     False\n",
       "1192     False\n",
       "         ...  \n",
       "87647    False\n",
       "87662    False\n",
       "87677    False\n",
       "87678    False\n",
       "87679    False\n",
       "Name: Imaging_Protocol, Length: 1490, dtype: bool"
      ]
     },
     "execution_count": 247,
     "metadata": {},
     "output_type": "execute_result"
    }
   ],
   "source": [
    "protocols_mri_or_pet.apply(c11_scan)"
   ]
  },
  {
   "cell_type": "code",
   "execution_count": 259,
   "metadata": {},
   "outputs": [],
   "source": [
    "adni_mri_or_pet_c11 = adni_aibl_mri_or_pet.loc[protocols_mri_or_pet.index[protocols_mri_or_pet.apply(c11_scan)]]\n",
    "adni_mri_or_pet_c11 = filter_modality(adni_mri_or_pet_c11,'PET')"
   ]
  },
  {
   "cell_type": "code",
   "execution_count": 263,
   "metadata": {},
   "outputs": [
    {
     "data": {
      "text/plain": [
       "129"
      ]
     },
     "execution_count": 263,
     "metadata": {},
     "output_type": "execute_result"
    }
   ],
   "source": []
  }
 ],
 "metadata": {
  "kernelspec": {
   "display_name": "Python 3",
   "language": "python",
   "name": "python3"
  },
  "language_info": {
   "codemirror_mode": {
    "name": "ipython",
    "version": 3
   },
   "file_extension": ".py",
   "mimetype": "text/x-python",
   "name": "python",
   "nbconvert_exporter": "python",
   "pygments_lexer": "ipython3",
   "version": "3.7.6"
  }
 },
 "nbformat": 4,
 "nbformat_minor": 4
}
