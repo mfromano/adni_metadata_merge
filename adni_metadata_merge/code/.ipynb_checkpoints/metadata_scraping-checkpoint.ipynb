{
 "cells": [
  {
   "cell_type": "code",
   "execution_count": 1,
   "metadata": {},
   "outputs": [],
   "source": [
    "import pandas as pd\n",
    "\n",
    "import re\n",
    "\n",
    "adni_mri_and_pet = pd.read_csv('/home/mfromano/Research/alzheimers/data/adni_aibl_all.csv')\n",
    "\n",
    "# identify individuals with MRI scans in each\n",
    "\n",
    "rpharm = ['11C-PIB', '[11C]PIB','[11C]PIB[11C]PIB']\n",
    "\n",
    "def filter_modality(csv, modality):\n",
    "    adni_all_mod = csv[csv.Modality == modality]\n",
    "    adni_all_mod.columns = adni_all_mod.columns.str.strip().str.replace(' ','_')\n",
    "    return adni_all_mod"
   ]
  },
  {
   "cell_type": "code",
   "execution_count": 2,
   "metadata": {},
   "outputs": [],
   "source": [
    "adni_all_pet = filter_modality(adni_mri_and_pet,'PET')\n"
   ]
  },
  {
   "cell_type": "code",
   "execution_count": 3,
   "metadata": {},
   "outputs": [
    {
     "data": {
      "text/plain": [
       "'Slice Thickness=2.0;Manufacturer=Philips Medical Systems;Mfg Model=GEMINI TF TOF 16;Radioisotope=F-18;Radiopharmaceutical=18F-FDG;Frames=6.0'"
      ]
     },
     "execution_count": 3,
     "metadata": {},
     "output_type": "execute_result"
    }
   ],
   "source": [
    "adni_all_pet.Imaging_Protocol.iloc[0]"
   ]
  },
  {
   "cell_type": "code",
   "execution_count": 4,
   "metadata": {},
   "outputs": [
    {
     "data": {
      "text/plain": [
       "<bound method NDFrame.head of 71        Slice Thickness=2.0;Manufacturer=Philips Medic...\n",
       "72        Slice Thickness=2.0;Manufacturer=Philips Medic...\n",
       "175       Slice Thickness=2.0;Manufacturer=Philips Medic...\n",
       "176       Slice Thickness=2.0;Manufacturer=Philips Medic...\n",
       "188       Slice Thickness=2.0;Manufacturer=Philips Medic...\n",
       "                                ...                        \n",
       "115793    Slice Thickness=2.0;Manufacturer=Philips Medic...\n",
       "115796    Slice Thickness=3.0;Manufacturer=SIEMENS;Mfg M...\n",
       "115800    Slice Thickness=3.0;Manufacturer=SIEMENS;Mfg M...\n",
       "115810    Slice Thickness=2.0;Manufacturer=Philips Medic...\n",
       "115823    Slice Thickness=2.0;Manufacturer=Philips Medic...\n",
       "Name: Imaging_Protocol, Length: 9963, dtype: object>"
      ]
     },
     "execution_count": 4,
     "metadata": {},
     "output_type": "execute_result"
    }
   ],
   "source": [
    "def radio_pharm(text):\n",
    "    text_match = re.search(r'(?<=Radiopharmaceutical\\=).*(?=;)',text)\n",
    "    if text_match == None:\n",
    "        text_match = re.search(r'(?<=Radioisotope\\=).*(?=;)',text)\n",
    "        return text_match.group(0)\n",
    "    return text_match.group(0)\n",
    "protocols = adni_all_pet.Imaging_Protocol\n",
    "protocols.head"
   ]
  },
  {
   "cell_type": "code",
   "execution_count": 5,
   "metadata": {},
   "outputs": [
    {
     "data": {
      "text/plain": [
       "71           18F-FDG\n",
       "72          18F-AV45\n",
       "175          18F-FDG\n",
       "176         18F-AV45\n",
       "188         18F-AV45\n",
       "             ...    \n",
       "115793          C-11\n",
       "115796    FLUMETAMOL\n",
       "115800    FLUMETAMOL\n",
       "115810          C-11\n",
       "115823          C-11\n",
       "Name: Imaging_Protocol, Length: 9963, dtype: object"
      ]
     },
     "execution_count": 5,
     "metadata": {},
     "output_type": "execute_result"
    }
   ],
   "source": [
    "protocols = protocols.apply(radio_pharm)\n",
    "protocols"
   ]
  },
  {
   "cell_type": "code",
   "execution_count": 6,
   "metadata": {},
   "outputs": [
    {
     "data": {
      "text/plain": [
       "Subject_ID                                                            98\n",
       "Project                                                             AIBL\n",
       "Phase                                                                NaN\n",
       "Sex                                                                    F\n",
       "Weight                                                              52.7\n",
       "Research_Group                                                   Patient\n",
       "APOE_A1                                                              NaN\n",
       "APOE_A2                                                              NaN\n",
       "Visit                                                 54 Month follow-up\n",
       "Study_Date                                                     2/10/2012\n",
       "Archive_Date                                                   2/22/2015\n",
       "Age                                                                   70\n",
       "Global_CDR                                                           NaN\n",
       "NPI-Q_Total_Score                                                    NaN\n",
       "MMSE_Total_Score                                                     NaN\n",
       "GDSCALE_Total_Score                                                  NaN\n",
       "FAQ_Total_Score                                                      NaN\n",
       "Modality                                                             PET\n",
       "Description                              summed.img: RSRCH_Brain_Dynamic\n",
       "Imaging_Protocol       Slice Thickness=2.0;Manufacturer=Philips Medic...\n",
       "Image_ID                                                          474294\n",
       "Name: 115793, dtype: object"
      ]
     },
     "execution_count": 6,
     "metadata": {},
     "output_type": "execute_result"
    }
   ],
   "source": [
    "adni_all_pet.loc[115793]"
   ]
  },
  {
   "cell_type": "code",
   "execution_count": 7,
   "metadata": {},
   "outputs": [
    {
     "data": {
      "text/plain": [
       "Subject_ID                                                           993\n",
       "Project                                                             AIBL\n",
       "Phase                                                                NaN\n",
       "Sex                                                                    M\n",
       "Weight                                                              84.7\n",
       "Research_Group                                                   Patient\n",
       "APOE_A1                                                              NaN\n",
       "APOE_A2                                                              NaN\n",
       "Visit                                                 18 Month follow-up\n",
       "Study_Date                                                    11/27/2009\n",
       "Archive_Date                                                  11/09/2010\n",
       "Age                                                                   63\n",
       "Global_CDR                                                           NaN\n",
       "NPI-Q_Total_Score                                                    NaN\n",
       "MMSE_Total_Score                                                     NaN\n",
       "GDSCALE_Total_Score                                                  NaN\n",
       "FAQ_Total_Score                                                      NaN\n",
       "Modality                                                             PET\n",
       "Description                               summed.img: Brain-Jan-PIB-DYN2\n",
       "Imaging_Protocol       Slice Thickness=2.0;Manufacturer=Philips Medic...\n",
       "Image_ID                                                          203989\n",
       "Name: 115823, dtype: object"
      ]
     },
     "execution_count": 7,
     "metadata": {},
     "output_type": "execute_result"
    }
   ],
   "source": [
    "adni_all_pet.loc[115823]"
   ]
  },
  {
   "cell_type": "code",
   "execution_count": 8,
   "metadata": {},
   "outputs": [],
   "source": [
    "# now filter the original dataset, collecting only those pts w/ 11C PET imaging\n",
    "adni_all_pet_c11 = adni_all_pet.loc[protocols.index]\n",
    "\n",
    "# load the dataset containing only PET data, make sure that these are identical sans the C-11 data"
   ]
  },
  {
   "cell_type": "code",
   "execution_count": 9,
   "metadata": {},
   "outputs": [],
   "source": [
    "adni_aibl_mri_or_pet = pd.read_csv('/home/mfromano/Research/alzheimers/data/adni_aibl_11C_or_18F.csv')\n",
    "adni_aibl_mri_and_pet = pd.read_csv('/home/mfromano/Research/alzheimers/data/adni_aibl_11C_and_18F.csv')"
   ]
  },
  {
   "cell_type": "code",
   "execution_count": 10,
   "metadata": {},
   "outputs": [
    {
     "data": {
      "text/plain": [
       "176     Slice Thickness=2.0;Manufacturer=Philips Medic...\n",
       "863     Slice Thickness=2.0;Manufacturer=Philips Medic...\n",
       "983     Slice Thickness=2.0;Manufacturer=Philips Medic...\n",
       "1191    Slice Thickness=2.0;Manufacturer=Philips Medic...\n",
       "1192    Slice Thickness=2.0;Manufacturer=Philips Medic...\n",
       "Name: Imaging_Protocol, dtype: object"
      ]
     },
     "execution_count": 10,
     "metadata": {},
     "output_type": "execute_result"
    }
   ],
   "source": [
    "protocols_mri_or_pet = filter_modality(adni_aibl_mri_or_pet,'PET')\n",
    "protocols_mri_or_pet = protocols_mri_or_pet.Imaging_Protocol\n",
    "protocols_mri_and_pet = filter_modality(adni_aibl_mri_and_pet,'PET')\n",
    "protocols_mri_and_pet = protocols_mri_and_pet.Imaging_Protocol\n",
    "protocols_mri_or_pet.head()"
   ]
  },
  {
   "cell_type": "code",
   "execution_count": 11,
   "metadata": {},
   "outputs": [
    {
     "name": "stdout",
     "output_type": "stream",
     "text": [
      "length or: 1490, length and: 1468\n"
     ]
    }
   ],
   "source": [
    "protocols_mri_or_pet = protocols_mri_or_pet.apply(radio_pharm)\n",
    "protocols_mri_and_pet = protocols_mri_and_pet.apply(radio_pharm)\n",
    "\n",
    "print('length ''or'': {}, length ''and'': {}'.format(len(protocols_mri_or_pet),len(protocols_mri_and_pet)))\n",
    "c11_scan = lambda x: x in rpharm"
   ]
  },
  {
   "cell_type": "code",
   "execution_count": 12,
   "metadata": {},
   "outputs": [
    {
     "data": {
      "text/plain": [
       "176      False\n",
       "863      False\n",
       "983      False\n",
       "1191     False\n",
       "1192     False\n",
       "         ...  \n",
       "87647    False\n",
       "87662    False\n",
       "87677    False\n",
       "87678    False\n",
       "87679    False\n",
       "Name: Imaging_Protocol, Length: 1490, dtype: bool"
      ]
     },
     "execution_count": 12,
     "metadata": {},
     "output_type": "execute_result"
    }
   ],
   "source": [
    "protocols_mri_or_pet.apply(c11_scan)"
   ]
  },
  {
   "cell_type": "code",
   "execution_count": 13,
   "metadata": {},
   "outputs": [],
   "source": [
    "adni_mri_or_pet_c11 = adni_aibl_mri_or_pet.loc[protocols_mri_or_pet.index[protocols_mri_or_pet.apply(c11_scan)]]\n",
    "adni_mri_or_pet_c11 = filter_modality(adni_mri_or_pet_c11,'PET')"
   ]
  },
  {
   "cell_type": "code",
   "execution_count": 15,
   "metadata": {},
   "outputs": [
    {
     "data": {
      "text/html": [
       "<div>\n",
       "<style scoped>\n",
       "    .dataframe tbody tr th:only-of-type {\n",
       "        vertical-align: middle;\n",
       "    }\n",
       "\n",
       "    .dataframe tbody tr th {\n",
       "        vertical-align: top;\n",
       "    }\n",
       "\n",
       "    .dataframe thead th {\n",
       "        text-align: right;\n",
       "    }\n",
       "</style>\n",
       "<table border=\"1\" class=\"dataframe\">\n",
       "  <thead>\n",
       "    <tr style=\"text-align: right;\">\n",
       "      <th></th>\n",
       "      <th>Subject_ID</th>\n",
       "      <th>Project</th>\n",
       "      <th>Phase</th>\n",
       "      <th>Sex</th>\n",
       "      <th>Weight</th>\n",
       "      <th>Research_Group</th>\n",
       "      <th>APOE_A1</th>\n",
       "      <th>APOE_A2</th>\n",
       "      <th>Visit</th>\n",
       "      <th>Study_Date</th>\n",
       "      <th>...</th>\n",
       "      <th>Age</th>\n",
       "      <th>Global_CDR</th>\n",
       "      <th>NPI-Q_Total_Score</th>\n",
       "      <th>MMSE_Total_Score</th>\n",
       "      <th>GDSCALE_Total_Score</th>\n",
       "      <th>FAQ_Total_Score</th>\n",
       "      <th>Modality</th>\n",
       "      <th>Description</th>\n",
       "      <th>Imaging_Protocol</th>\n",
       "      <th>Image_ID</th>\n",
       "    </tr>\n",
       "  </thead>\n",
       "  <tbody>\n",
       "    <tr>\n",
       "      <th>3615</th>\n",
       "      <td>005_S_0222</td>\n",
       "      <td>ADNI</td>\n",
       "      <td>ADNI 1</td>\n",
       "      <td>M</td>\n",
       "      <td>73.0</td>\n",
       "      <td>MCI</td>\n",
       "      <td>3.0</td>\n",
       "      <td>3.0</td>\n",
       "      <td>ADNI1/GO Month 24</td>\n",
       "      <td>6/05/2008</td>\n",
       "      <td>...</td>\n",
       "      <td>88.3</td>\n",
       "      <td>1.0</td>\n",
       "      <td>6.0</td>\n",
       "      <td>26.0</td>\n",
       "      <td>1.0</td>\n",
       "      <td>21.0</td>\n",
       "      <td>PET</td>\n",
       "      <td>Emission 20min - Iter(Brain Mod</td>\n",
       "      <td>Slice Thickness=2.4;Manufacturer=Siemens/CTI;M...</td>\n",
       "      <td>108586</td>\n",
       "    </tr>\n",
       "    <tr>\n",
       "      <th>3651</th>\n",
       "      <td>005_S_0223</td>\n",
       "      <td>ADNI</td>\n",
       "      <td>ADNI 1</td>\n",
       "      <td>F</td>\n",
       "      <td>54.4</td>\n",
       "      <td>CN</td>\n",
       "      <td>3.0</td>\n",
       "      <td>4.0</td>\n",
       "      <td>ADNI1/GO Month 24</td>\n",
       "      <td>5/16/2008</td>\n",
       "      <td>...</td>\n",
       "      <td>80.3</td>\n",
       "      <td>0.5</td>\n",
       "      <td>4.0</td>\n",
       "      <td>27.0</td>\n",
       "      <td>0.0</td>\n",
       "      <td>11.0</td>\n",
       "      <td>PET</td>\n",
       "      <td>Copy Matrix - Iter(Brain Mod PIB</td>\n",
       "      <td>Slice Thickness=2.4;Manufacturer=Siemens/CTI;M...</td>\n",
       "      <td>109969</td>\n",
       "    </tr>\n",
       "    <tr>\n",
       "      <th>3660</th>\n",
       "      <td>005_S_0223</td>\n",
       "      <td>ADNI</td>\n",
       "      <td>ADNI 1</td>\n",
       "      <td>F</td>\n",
       "      <td>57.2</td>\n",
       "      <td>CN</td>\n",
       "      <td>3.0</td>\n",
       "      <td>4.0</td>\n",
       "      <td>ADNI1/GO Month 36</td>\n",
       "      <td>8/05/2009</td>\n",
       "      <td>...</td>\n",
       "      <td>81.5</td>\n",
       "      <td>1.0</td>\n",
       "      <td>2.0</td>\n",
       "      <td>27.0</td>\n",
       "      <td>1.0</td>\n",
       "      <td>19.0</td>\n",
       "      <td>PET</td>\n",
       "      <td>Emission 20min - Iter(Brain  PIB</td>\n",
       "      <td>Slice Thickness=2.4;Manufacturer=Siemens/CTI;M...</td>\n",
       "      <td>152523</td>\n",
       "    </tr>\n",
       "    <tr>\n",
       "      <th>3880</th>\n",
       "      <td>005_S_0546</td>\n",
       "      <td>ADNI</td>\n",
       "      <td>ADNI 1</td>\n",
       "      <td>M</td>\n",
       "      <td>98.4</td>\n",
       "      <td>MCI</td>\n",
       "      <td>3.0</td>\n",
       "      <td>4.0</td>\n",
       "      <td>ADNI1/GO Month 24</td>\n",
       "      <td>10/09/2008</td>\n",
       "      <td>...</td>\n",
       "      <td>81.8</td>\n",
       "      <td>0.5</td>\n",
       "      <td>2.0</td>\n",
       "      <td>29.0</td>\n",
       "      <td>1.0</td>\n",
       "      <td>1.0</td>\n",
       "      <td>PET</td>\n",
       "      <td>Emission 20min - Iter(Brain  PIB</td>\n",
       "      <td>Slice Thickness=2.4;Manufacturer=Siemens/CTI;M...</td>\n",
       "      <td>120055</td>\n",
       "    </tr>\n",
       "    <tr>\n",
       "      <th>3889</th>\n",
       "      <td>005_S_0546</td>\n",
       "      <td>ADNI</td>\n",
       "      <td>ADNI 1</td>\n",
       "      <td>M</td>\n",
       "      <td>97.5</td>\n",
       "      <td>MCI</td>\n",
       "      <td>3.0</td>\n",
       "      <td>4.0</td>\n",
       "      <td>ADNI1/GO Month 36</td>\n",
       "      <td>9/16/2009</td>\n",
       "      <td>...</td>\n",
       "      <td>82.8</td>\n",
       "      <td>0.5</td>\n",
       "      <td>1.0</td>\n",
       "      <td>29.0</td>\n",
       "      <td>3.0</td>\n",
       "      <td>0.0</td>\n",
       "      <td>PET</td>\n",
       "      <td>Emission 20min - Iter(Brain  PIB</td>\n",
       "      <td>Slice Thickness=2.4;Manufacturer=Siemens/CTI;M...</td>\n",
       "      <td>155220</td>\n",
       "    </tr>\n",
       "  </tbody>\n",
       "</table>\n",
       "<p>5 rows × 21 columns</p>\n",
       "</div>"
      ],
      "text/plain": [
       "      Subject_ID Project   Phase Sex  Weight Research_Group  APOE_A1  APOE_A2  \\\n",
       "3615  005_S_0222    ADNI  ADNI 1   M    73.0            MCI      3.0      3.0   \n",
       "3651  005_S_0223    ADNI  ADNI 1   F    54.4             CN      3.0      4.0   \n",
       "3660  005_S_0223    ADNI  ADNI 1   F    57.2             CN      3.0      4.0   \n",
       "3880  005_S_0546    ADNI  ADNI 1   M    98.4            MCI      3.0      4.0   \n",
       "3889  005_S_0546    ADNI  ADNI 1   M    97.5            MCI      3.0      4.0   \n",
       "\n",
       "                  Visit  Study_Date  ...   Age  Global_CDR  NPI-Q_Total_Score  \\\n",
       "3615  ADNI1/GO Month 24   6/05/2008  ...  88.3         1.0                6.0   \n",
       "3651  ADNI1/GO Month 24   5/16/2008  ...  80.3         0.5                4.0   \n",
       "3660  ADNI1/GO Month 36   8/05/2009  ...  81.5         1.0                2.0   \n",
       "3880  ADNI1/GO Month 24  10/09/2008  ...  81.8         0.5                2.0   \n",
       "3889  ADNI1/GO Month 36   9/16/2009  ...  82.8         0.5                1.0   \n",
       "\n",
       "      MMSE_Total_Score  GDSCALE_Total_Score  FAQ_Total_Score  Modality  \\\n",
       "3615              26.0                  1.0             21.0       PET   \n",
       "3651              27.0                  0.0             11.0       PET   \n",
       "3660              27.0                  1.0             19.0       PET   \n",
       "3880              29.0                  1.0              1.0       PET   \n",
       "3889              29.0                  3.0              0.0       PET   \n",
       "\n",
       "                           Description  \\\n",
       "3615   Emission 20min - Iter(Brain Mod   \n",
       "3651  Copy Matrix - Iter(Brain Mod PIB   \n",
       "3660  Emission 20min - Iter(Brain  PIB   \n",
       "3880  Emission 20min - Iter(Brain  PIB   \n",
       "3889  Emission 20min - Iter(Brain  PIB   \n",
       "\n",
       "                                       Imaging_Protocol Image_ID  \n",
       "3615  Slice Thickness=2.4;Manufacturer=Siemens/CTI;M...   108586  \n",
       "3651  Slice Thickness=2.4;Manufacturer=Siemens/CTI;M...   109969  \n",
       "3660  Slice Thickness=2.4;Manufacturer=Siemens/CTI;M...   152523  \n",
       "3880  Slice Thickness=2.4;Manufacturer=Siemens/CTI;M...   120055  \n",
       "3889  Slice Thickness=2.4;Manufacturer=Siemens/CTI;M...   155220  \n",
       "\n",
       "[5 rows x 21 columns]"
      ]
     },
     "execution_count": 15,
     "metadata": {},
     "output_type": "execute_result"
    }
   ],
   "source": [
    "adni_mri_or_pet_c11.head()"
   ]
  },
  {
   "cell_type": "code",
   "execution_count": 17,
   "metadata": {},
   "outputs": [],
   "source": [
    "adni_mri_and_pet_c11 = adni_aibl_mri_and_pet.loc[protocols_mri_and_pet.index[protocols_mri_and_pet.apply(c11_scan)]]\n",
    "adni_mri_and_pet_c11 = filter_modality(adni_mri_and_pet_c11,'PET')"
   ]
  },
  {
   "cell_type": "code",
   "execution_count": 37,
   "metadata": {},
   "outputs": [
    {
     "name": "stdout",
     "output_type": "stream",
     "text": [
      "number of patients w/ 11C contrast is: 232\n"
     ]
    }
   ],
   "source": [
    "patients_and = pd.unique(adni_mri_and_pet_c11.Subject_ID)\n",
    "patients_or = pd.unique(adni_mri_or_pet_c11.Subject_ID)\n",
    "import numpy as np\n",
    "assert(all(np.isin(patients_and,patients_or)))\n",
    "print('number of patients w/ 11C contrast is: {}'.format(len(patients_or)))"
   ]
  },
  {
   "cell_type": "markdown",
   "metadata": {},
   "source": [
    "## Now that we've established the number of patients with 11C contrast, let's see what proportion of them have corresponding MRI scans"
   ]
  },
  {
   "cell_type": "code",
   "execution_count": 46,
   "metadata": {},
   "outputs": [
    {
     "data": {
      "text/plain": [
       "'Acquisition Plane=SAGITTAL;Slice Thickness=2.5;Matrix Z=92.0;Acquisition Type=3D;Manufacturer=GE MEDICAL SYSTEMS;Mfg Model=SIGNA EXCITE;Field Strength=1.5;Weighting=T1'"
      ]
     },
     "execution_count": 46,
     "metadata": {},
     "output_type": "execute_result"
    }
   ],
   "source": [
    "adni_aibl_and = filter_modality(adni_aibl_mri_and_pet,'MRI')\n",
    "adni_aibl_or = filter_modality(adni_aibl_mri_or_pet,'MRI')\n",
    "adni_aibl_and.Imaging_Protocol[0]"
   ]
  },
  {
   "cell_type": "code",
   "execution_count": 78,
   "metadata": {},
   "outputs": [
    {
     "data": {
      "text/html": [
       "<div>\n",
       "<style scoped>\n",
       "    .dataframe tbody tr th:only-of-type {\n",
       "        vertical-align: middle;\n",
       "    }\n",
       "\n",
       "    .dataframe tbody tr th {\n",
       "        vertical-align: top;\n",
       "    }\n",
       "\n",
       "    .dataframe thead th {\n",
       "        text-align: right;\n",
       "    }\n",
       "</style>\n",
       "<table border=\"1\" class=\"dataframe\">\n",
       "  <thead>\n",
       "    <tr style=\"text-align: right;\">\n",
       "      <th></th>\n",
       "      <th>Subject_ID</th>\n",
       "      <th>Project</th>\n",
       "      <th>Phase</th>\n",
       "      <th>Sex</th>\n",
       "      <th>Weight</th>\n",
       "      <th>Research_Group</th>\n",
       "      <th>APOE_A1</th>\n",
       "      <th>APOE_A2</th>\n",
       "      <th>Visit</th>\n",
       "      <th>Study_Date</th>\n",
       "      <th>...</th>\n",
       "      <th>Age</th>\n",
       "      <th>Global_CDR</th>\n",
       "      <th>NPI-Q_Total_Score</th>\n",
       "      <th>MMSE_Total_Score</th>\n",
       "      <th>GDSCALE_Total_Score</th>\n",
       "      <th>FAQ_Total_Score</th>\n",
       "      <th>Modality</th>\n",
       "      <th>Description</th>\n",
       "      <th>Imaging_Protocol</th>\n",
       "      <th>Image_ID</th>\n",
       "    </tr>\n",
       "  </thead>\n",
       "  <tbody>\n",
       "    <tr>\n",
       "      <th>0</th>\n",
       "      <td>002_S_0295</td>\n",
       "      <td>ADNI</td>\n",
       "      <td>ADNI 1</td>\n",
       "      <td>M</td>\n",
       "      <td>74.5</td>\n",
       "      <td>CN</td>\n",
       "      <td>3.0</td>\n",
       "      <td>4.0</td>\n",
       "      <td>ADNI Screening</td>\n",
       "      <td>4/18/2006</td>\n",
       "      <td>...</td>\n",
       "      <td>84.9</td>\n",
       "      <td>0.0</td>\n",
       "      <td>NaN</td>\n",
       "      <td>28.0</td>\n",
       "      <td>1.0</td>\n",
       "      <td>NaN</td>\n",
       "      <td>MRI</td>\n",
       "      <td>B1-Calibration Body</td>\n",
       "      <td>Acquisition Plane=SAGITTAL;Slice Thickness=2.5...</td>\n",
       "      <td>13710</td>\n",
       "    </tr>\n",
       "    <tr>\n",
       "      <th>1</th>\n",
       "      <td>002_S_0295</td>\n",
       "      <td>ADNI</td>\n",
       "      <td>ADNI 1</td>\n",
       "      <td>M</td>\n",
       "      <td>74.5</td>\n",
       "      <td>CN</td>\n",
       "      <td>3.0</td>\n",
       "      <td>4.0</td>\n",
       "      <td>ADNI Screening</td>\n",
       "      <td>4/18/2006</td>\n",
       "      <td>...</td>\n",
       "      <td>84.9</td>\n",
       "      <td>0.0</td>\n",
       "      <td>NaN</td>\n",
       "      <td>28.0</td>\n",
       "      <td>1.0</td>\n",
       "      <td>NaN</td>\n",
       "      <td>MRI</td>\n",
       "      <td>B1-Calibration PA</td>\n",
       "      <td>Acquisition Plane=SAGITTAL;Slice Thickness=2.5...</td>\n",
       "      <td>13711</td>\n",
       "    </tr>\n",
       "    <tr>\n",
       "      <th>2</th>\n",
       "      <td>002_S_0295</td>\n",
       "      <td>ADNI</td>\n",
       "      <td>ADNI 1</td>\n",
       "      <td>M</td>\n",
       "      <td>74.5</td>\n",
       "      <td>CN</td>\n",
       "      <td>3.0</td>\n",
       "      <td>4.0</td>\n",
       "      <td>ADNI Screening</td>\n",
       "      <td>4/18/2006</td>\n",
       "      <td>...</td>\n",
       "      <td>84.9</td>\n",
       "      <td>0.0</td>\n",
       "      <td>NaN</td>\n",
       "      <td>28.0</td>\n",
       "      <td>1.0</td>\n",
       "      <td>NaN</td>\n",
       "      <td>MRI</td>\n",
       "      <td>3-plane localizer</td>\n",
       "      <td>Acquisition Plane=AXIAL;Slice Thickness=5.0;Ma...</td>\n",
       "      <td>13712</td>\n",
       "    </tr>\n",
       "    <tr>\n",
       "      <th>3</th>\n",
       "      <td>002_S_0295</td>\n",
       "      <td>ADNI</td>\n",
       "      <td>ADNI 1</td>\n",
       "      <td>M</td>\n",
       "      <td>74.5</td>\n",
       "      <td>CN</td>\n",
       "      <td>3.0</td>\n",
       "      <td>4.0</td>\n",
       "      <td>ADNI Screening</td>\n",
       "      <td>4/18/2006</td>\n",
       "      <td>...</td>\n",
       "      <td>84.9</td>\n",
       "      <td>0.0</td>\n",
       "      <td>NaN</td>\n",
       "      <td>28.0</td>\n",
       "      <td>1.0</td>\n",
       "      <td>NaN</td>\n",
       "      <td>MRI</td>\n",
       "      <td>3-plane localizer</td>\n",
       "      <td>Acquisition Plane=CORONAL;Slice Thickness=5.0;...</td>\n",
       "      <td>13713</td>\n",
       "    </tr>\n",
       "    <tr>\n",
       "      <th>4</th>\n",
       "      <td>002_S_0295</td>\n",
       "      <td>ADNI</td>\n",
       "      <td>ADNI 1</td>\n",
       "      <td>M</td>\n",
       "      <td>74.5</td>\n",
       "      <td>CN</td>\n",
       "      <td>3.0</td>\n",
       "      <td>4.0</td>\n",
       "      <td>ADNI Screening</td>\n",
       "      <td>4/18/2006</td>\n",
       "      <td>...</td>\n",
       "      <td>84.9</td>\n",
       "      <td>0.0</td>\n",
       "      <td>NaN</td>\n",
       "      <td>28.0</td>\n",
       "      <td>1.0</td>\n",
       "      <td>NaN</td>\n",
       "      <td>MRI</td>\n",
       "      <td>3-plane localizer</td>\n",
       "      <td>Acquisition Plane=SAGITTAL;Slice Thickness=5.0...</td>\n",
       "      <td>13714</td>\n",
       "    </tr>\n",
       "  </tbody>\n",
       "</table>\n",
       "<p>5 rows × 21 columns</p>\n",
       "</div>"
      ],
      "text/plain": [
       "   Subject_ID Project   Phase Sex  Weight Research_Group  APOE_A1  APOE_A2  \\\n",
       "0  002_S_0295    ADNI  ADNI 1   M    74.5             CN      3.0      4.0   \n",
       "1  002_S_0295    ADNI  ADNI 1   M    74.5             CN      3.0      4.0   \n",
       "2  002_S_0295    ADNI  ADNI 1   M    74.5             CN      3.0      4.0   \n",
       "3  002_S_0295    ADNI  ADNI 1   M    74.5             CN      3.0      4.0   \n",
       "4  002_S_0295    ADNI  ADNI 1   M    74.5             CN      3.0      4.0   \n",
       "\n",
       "            Visit Study_Date  ...   Age  Global_CDR  NPI-Q_Total_Score  \\\n",
       "0  ADNI Screening  4/18/2006  ...  84.9         0.0                NaN   \n",
       "1  ADNI Screening  4/18/2006  ...  84.9         0.0                NaN   \n",
       "2  ADNI Screening  4/18/2006  ...  84.9         0.0                NaN   \n",
       "3  ADNI Screening  4/18/2006  ...  84.9         0.0                NaN   \n",
       "4  ADNI Screening  4/18/2006  ...  84.9         0.0                NaN   \n",
       "\n",
       "   MMSE_Total_Score  GDSCALE_Total_Score  FAQ_Total_Score  Modality  \\\n",
       "0              28.0                  1.0              NaN       MRI   \n",
       "1              28.0                  1.0              NaN       MRI   \n",
       "2              28.0                  1.0              NaN       MRI   \n",
       "3              28.0                  1.0              NaN       MRI   \n",
       "4              28.0                  1.0              NaN       MRI   \n",
       "\n",
       "           Description                                   Imaging_Protocol  \\\n",
       "0  B1-Calibration Body  Acquisition Plane=SAGITTAL;Slice Thickness=2.5...   \n",
       "1    B1-Calibration PA  Acquisition Plane=SAGITTAL;Slice Thickness=2.5...   \n",
       "2    3-plane localizer  Acquisition Plane=AXIAL;Slice Thickness=5.0;Ma...   \n",
       "3    3-plane localizer  Acquisition Plane=CORONAL;Slice Thickness=5.0;...   \n",
       "4    3-plane localizer  Acquisition Plane=SAGITTAL;Slice Thickness=5.0...   \n",
       "\n",
       "  Image_ID  \n",
       "0    13710  \n",
       "1    13711  \n",
       "2    13712  \n",
       "3    13713  \n",
       "4    13714  \n",
       "\n",
       "[5 rows x 21 columns]"
      ]
     },
     "execution_count": 78,
     "metadata": {},
     "output_type": "execute_result"
    }
   ],
   "source": [
    "def weight_filter(text):\n",
    "    text_match = re.search(r'(?<=Weighting\\=).*(?=;|$)',text)\n",
    "    return text_match.group(0)\n",
    "adni_aibl_and.head()"
   ]
  },
  {
   "cell_type": "code",
   "execution_count": 63,
   "metadata": {},
   "outputs": [
    {
     "data": {
      "text/plain": [
       "array(['B1-Calibration Body', 'B1-Calibration PA', '3-plane localizer',\n",
       "       'Axial PD/T2 FSE', 'MP-RAGE REPEAT', 'MP-RAGE', 'Axial T2-Star',\n",
       "       '3 Plane Localizer', 'Field Mapping', 'MPRAGE', 'MPRAGE SENSE2',\n",
       "       'Double_TSE', 'MPRAGE_REPE', 'MPRAGE SENS', 'SURVEY',\n",
       "       'MPRAGE REPEAT', 'Accelerated Sagittal MPRAGE', 'Axial T2 STAR',\n",
       "       'Sagittal 3D FLAIR', 'Axial 3TE T2 STAR', 'Field Mapping_AP_Phase',\n",
       "       'Repeat_Accelerated Sagittal MPRAGE', 'B1-calibration Head',\n",
       "       'B1-calibration Body', 'Axial PD-T2 TSE', 'MPRAGE Repeat',\n",
       "       'Localizer', 'AXIAL PD-T2 TSE', 'localizer', 'Axial FLAIR',\n",
       "       'Accelerated SAG IR-SPGR', 'Axial T2 Star', 'Calibration Scan',\n",
       "       'Sag IR-SPGR', 't1_fl2d_sag', '3-pl T2* FGRE', 'B1-calibration PA',\n",
       "       'FSE  PD/T2', 'MP-RAGE-REPEAT', 'IR-FSPGR-Repeat', 'IR-FSPGR',\n",
       "       'loc', 'Accelerated Sagittal IR-FSPGR', 'Accelerated Sag IR-FSPGR',\n",
       "       'Sag IR-FSPGR', 'Accelerated Sag IR-SPGR', '*B1-Calibration Body',\n",
       "       '*B1-Calibration PA', 'act_te = 6000 B1-Calibration Body',\n",
       "       'act_te = 6000 B1-Calibration PA', 'Axial Field Mapping',\n",
       "       'Sagittal 3D Accelerated MPRAGE', '*B1-Calibration PA TE 6',\n",
       "       '*B1-Calibration Body TE 6', 'MP-RAGE Repeat', 'REPEAT MP-RAGE',\n",
       "       'TE 6 B1-Calibration PA', 'TE 6 B1-Calibration Body',\n",
       "       'Field Mapping R/L', 'Field Mapping AP', 'Field Mapping RL',\n",
       "       'Field Mapping_R/L', 'Field Mapping R_L', 'Field Mapping_AP',\n",
       "       'Field Mapping_RL', 'Axial T2-Star 220 FOV', 'Field Mapping CLEAR',\n",
       "       'MPRAGE SENSE2 SENSE', 'MPRAGE SENSE', 'Axial T2-Star SENSE',\n",
       "       'Axial Field Mapping 54 slices', 'Sag IR-FSPGR Repeat',\n",
       "       '3 Plane Loc', 'B1-Calibration 8hrbrn', 'Axial T2 FLAIR',\n",
       "       'Axial T2-FSE with FAT SAT', 'Axial 3TE T2 Star',\n",
       "       'Accelerated Sagittal MPRAGE L>>R', '3 plane localizer',\n",
       "       'Axial 3TE T2 STAR repeat motion', 'Axial MB rsfMRI (Eyes Open)',\n",
       "       'Axial 3TE T2 STAR REPEAT', '3 PL LOC', 'AXIAL PD T2', 'MP RAGE',\n",
       "       'MP RAGE REPEAT', 'Field_mapping', 'AXIAL_T2_STAR',\n",
       "       'MPRAGE GRAPPA2', 'ADNI       Double TSE', 'ADNI       MPRAGE',\n",
       "       'ADNI       Survey', 'Double TSE', 'Survey', 'ASO-MPRAGE',\n",
       "       'ADNI       Survey 1', 'SURV_NOPATCH_DEFSCALEPAR',\n",
       "       '3_Plane_Localizer', 'ORIG Sagittal_3D_FLAIR', 'Sagittal_3D_FLAIR',\n",
       "       'ORIG Accelerated_Sag_IR-FSPGR', 'Accelerated_Sag_IR-FSPGR',\n",
       "       'Ax_T2_STAR', 'Double-repeat', 'Double TSE-repeat',\n",
       "       'Double_TSE-3rdRepeat', 'MPRAGE AUTOSHIM ON', 'T2W_FFE',\n",
       "       'MPRAGE ADNI-GO', 'REPEAT Accelerated Sagittal MPRAGE',\n",
       "       'Field Mapping REPEAT', 'MPRAGE_REPEAT', 'MPRAGE GRAPPA 2_ND',\n",
       "       'MPRAGE_ND', 'LOCALIZER', 'MPRAGE GRAPPA 2', 'AXIAL_T2_ STAR',\n",
       "       'Field_Mapping(EYES OPEN)', 'SAG SCOUT', 'Field_Mapping',\n",
       "       'Accelerated Sagittal MPRAGE_ND', 'LOCALIZER_S7_DIS2D',\n",
       "       'LOCALIZER_S1_DIS2D', '3 PLANE', 'AX FLAIR', 'Axial T2 Star RPT',\n",
       "       '2 New Series', 'B1-calibration Bodycoil', 'LOC',\n",
       "       'AAHead_Scout_MPR_cor', 'AAHead_Scout', 'AAHead_Scout_MPR_tra',\n",
       "       'AAHead_Scout_MPR_sag', 'ADNI       Double_TSE',\n",
       "       'ADNI       MPRAGE-1.2*', 'Double_TSE_new', 'MPRAGE_ASO_repeat',\n",
       "       'Double_TSE_', 'MPRAGE_ASO', 'Axial PD-T2 TSE no angle', 'ax',\n",
       "       'cor', 'COR 3D FRM', 'Axial Field Mapping straight',\n",
       "       'Axial T2 Star straight', 'Axial Field Mapping 0 angle',\n",
       "       'Sagittal 3D Accelerated 0 angle MPRAGE', 'Axial T2 0 angle Star',\n",
       "       'Sagittal 3D 0 angle FLAIR', 'MPRAGE_GRAPPA2', 'gre_field_mapping',\n",
       "       'AX_T2_STAR', 'SCOUT', 'Field Mapping_S9_DIS3D',\n",
       "       'Accelerated SAG IR-FSPGR', 'SSFSE', '3Plane Loc SSFSE',\n",
       "       'B1-calibration Body SAG', 'B1-calibration Head SAG', 'MPRAGE SAG',\n",
       "       'MPRAGE SAGITTAL', 'None Provided', 'MPRAGE_Repeat',\n",
       "       'ADNI_gre_field_mapping', 'Field Mapping Phase Direction P>A',\n",
       "       'MPRAGE repeat', 'AX_T2_STAR         straight no angle',\n",
       "       'localizer   20 channel  vitamin e',\n",
       "       'gre_field_mapping         straight no angle',\n",
       "       'MPRAGE_GRAPPA2          straight no angle',\n",
       "       'MPRAGE    straight no angle', 'B1-Calibration', 'IR-FSPGR REPEAT',\n",
       "       '**Take off auto send***', 'ASSET Cal', 'B1-Calibration BODY',\n",
       "       'CALIBRATION SCAN', 'SAG IR-SPGR', 'ACCELERATED SAG IR-SPGR',\n",
       "       'AXIAL FLAIR', 'AXIAL T2 STAR', '3 PLANE LOCALIZER',\n",
       "       'Axial T2 star', 'Ax T2 FLAIR', 'Cal Head 24', 'Ax T2 FSE',\n",
       "       'Cal Head+Neck 40', '3-pl T2* FGRE S',\n",
       "       'B1-Calibration PA (SERIES 4)', 'B1-Calibration Body (SERIES 5',\n",
       "       'Axial PD/T2 FSE (SERIES 6)', 'MP-RAGE REPEAT (SERIES 3)',\n",
       "       'MP-RAGE (SERIES 2)', 'SAG IR-FSPGR-Repeat', 'SAG IR-FSPGR',\n",
       "       'Axial T2star', 'IR-SPGR w/acceleration', 'IR-SPGR',\n",
       "       'calibration scan', 'Head,3-P,2D,LOCALIZER', 'MP-RAGE-Repeat',\n",
       "       'FSE PD/T2', 'MPRAGE-REPEAT', 'ADNI       MPRAGE #2',\n",
       "       'ADNI       SURVEY', 'ADNI       Double/TSE', 'mprage',\n",
       "       'MPRAGE ASO', 'B1 calibration Body', 'AX DUAL ECHO',\n",
       "       'B1 calibration Head', '           Double_TSE',\n",
       "       '           MPRAGE', 'Localizer_S1_ND', '3-PL LOC', 'T2_FLAIR',\n",
       "       '2nd Localizer Sharp', 'Axial PD/T2 FSE REPEAT', 'Circle Scout',\n",
       "       'MPRAGE_P2_NO ANGLE', 'MPRAGE_ NO ANGLE', 'AX_T2_STAR_NO ANGLE',\n",
       "       'gre_field_mapping_NO ANGLE=', 'localizer =',\n",
       "       'MPRAGE_P2_NO ANGLE=', 'MPRAGE_ NO ANGLE=', 'AX_T2_STAR_NO ANGLE=',\n",
       "       'MPRAGE_ Sag  - NO ANGLE=', 'gre_field_mapping_NO ANGLE',\n",
       "       'None provided', 'MPRAGE Repeat rpt', 'Axial T2 STAR phase R-L',\n",
       "       'Field Mapping phase R-L', 'Sagittal 3D FLAIR phase A-P',\n",
       "       'MPRAGE GRAPPA2 rpt', 'AXIAL_T2_STAR_rpt', 'AXIAL_T2_STAR rpt',\n",
       "       'Axial T2 STAR_rpt', 'Accelerated Sagittal MPRAGE Phase A-P',\n",
       "       'MPRAGE rpt', 'Axial T2 STAR phase R-L rpt',\n",
       "       'Localizer PLACE VIT E MARK', 'SAG GRE FIELD MAPPING',\n",
       "       'AX T2 STAR', '3 Plane Localizer_S1_DIS2D', 'MP-RAGE-',\n",
       "       'MP-RAGE  REPEAT', 'MP-RAGE repeat',\n",
       "       'B1-Calibration PA (TE min full)', 'B1-Calibration Body te 5.5',\n",
       "       'B1-Calibration PA te 5.5', 'B1-Calibration PA te 5.5ms',\n",
       "       'B1-Calibration PA TE 5.5', 'B1-Calibration Body TE 5.5',\n",
       "       'Axial PD/T2 FSE rpt', 'B1-Calibration Body TE=5.5',\n",
       "       'B1-Calibration Body TE = 5.5', 'B1-Calibration PA TE=5.5ms',\n",
       "       'B1-Calibration Body TE=5.5ms', 'Axial PD/T2 FSE #2', 'MP-RAGE #3',\n",
       "       'B1-Calibration BODY 5.5MS', 'B1-Calibration Body TE 5.5MS',\n",
       "       'Axial PD/T2 FSE repeat', 'ASSET calibration',\n",
       "       '3-plane localizer repeat with marker', 'Axial FLAIR Repeat',\n",
       "       '3 Plane Localizer 3', '3 Plane Localizer Repeat',\n",
       "       'Axial T2-Star_REPEAT', 'AXIAL RFORMAT 1', 'AXIAL REFORMAT 2',\n",
       "       'IR-FSPGR (replaces MP-Rage)', 'Cal 8HRBRAIN', 'MPRAGE Repeat x2',\n",
       "       'Axial PD-T2 TSE REPEAT', 'ADNI SH    DOUBLE TSE',\n",
       "       'ADNI SH    MPRAGE ASO', 'ADNI SH    MPRAGE ASOX2',\n",
       "       'ADNI SH    SURVEY', 'IGIV STUDY MPRAGE ASO S',\n",
       "       'IGIV STUDY AXIAL FLAIR', 'IGIV STUDY AXIAL GRE',\n",
       "       'Sagittal 3D FLAIR_MPR_Cor', 'Sagittal 3D FLAIR_MPR_Tra',\n",
       "       'RESEARCH ADNI 2', 'Accelerated Sagittal MPRAGE_MPR_Cor',\n",
       "       'Accelerated Sagittal MPRAGE_MPR_Tra', 'MPRAGE 2ND', 'SURVEY PHAN',\n",
       "       'ADNI       MPRAGE 2ND', 'DOUBLE_TSE SENSE', 'MPRAGE REPEAT ASO',\n",
       "       'AXIAL PD/TS', 'MPRAGE 2ND ASO', 'MPRAGE_S2_DIS3D',\n",
       "       'MPRAGE GRAPPA2_S4_DIS3D', 'MPRAGE GRAPPA2_S3_DIS3D',\n",
       "       'MPRAGE_S3_DIS3D', 'Axial T2 Star (NO ANGLE)',\n",
       "       'Axial (STRAIGHT) PD/T2 FSE', 'Axial STRAIGHT PD/T2 FSE',\n",
       "       'MP-RAGE - REPEAT', 'Sag IR-SPGR REPEAT',\n",
       "       'Accelerated SAG IR-SPGR REPEAT', 'Axial T2 Star REPEAT',\n",
       "       'Axial FLAIR REPEAT', 'Average DC', 'Cal RM:8HRBRAIN',\n",
       "       'Sag Accel IR-FSPGR', 'Localizer(VIT E RT TEMPLE)',\n",
       "       'localizer(VIT E R TEMPLE)', 'MPRAGE  Repeat',\n",
       "       '3Plane Loc SSFSE Repeat', 'Axial PD-T2 TSE confirmed',\n",
       "       'MPRAGE ADNI confirmed', 'Space_3D_T2_FLAIR_sag_p2', 'localiser',\n",
       "       'MPRAGE SAG ISO p2_ND', 'flair_t2_spc_irprep_ns_sag_p2_1mm_iso',\n",
       "       'ADNI STUDY Double_TSE2s', 'ADNI STUDY MPRAGE1',\n",
       "       'ADNI STUDY MPRAGE2', 'ADNI_new   Double_TSE2',\n",
       "       'ADNI_new   MPRAGErepeat', 'ADNI_new   MPRAGE',\n",
       "       'ADNI-R11   Double_TSE', 'ADNI-R11   MPRAGE',\n",
       "       'ADNI-R11   MPRAGE-REPEA', 'ADNI_new   Double_TSE', 'ASO-MPRAGE 2',\n",
       "       'MPRAGE-REPE', 'ADNI-R11-ASDouble_TSE', 'ADNI-R11-ASASO-MPRAGE',\n",
       "       'ADNI-R11-ASASO-MPRAGE(2', 'ADNI-R11   Double_TSE S',\n",
       "       'ASO-MPRAGE (2)', 'MPRAGE SAG ISO p2',\n",
       "       'Space_3D_T2_FLAIR_sag_REPEAT', 'Axial PD-T2 TSE confirmed REPEAT',\n",
       "       'Axial PD-T2 TSE ADNI SCAN', 't2_flair SAG', 'B1-calibration head',\n",
       "       'B1-calibration body', 'MP RAGE SAGITTAL REPEAT',\n",
       "       'MP RAGE SAGITTAL', 'B1-calibration BODY', 'B1-calibration HEAD',\n",
       "       'MPRAGE_S2_DIS2D', '3D_SPGR', 'Double_TSE SENSE', 'SURVEY_sHC',\n",
       "       'ADNI       DOUBLE TSE', 'ADNI       MPRAGEREPEAT',\n",
       "       'ADNI       *SCOUT', 'ADNI       MPRAGE ASO', 'DOUBLE TSE',\n",
       "       'MPRAGEREPEAT', '*SCOUT', 'MPRAGEASO', 'MPRAGEREPEATASO',\n",
       "       'Brain      *SCOUT', 'ADNI       MPRAGEASOREP',\n",
       "       'AXIAL_T2_STAR 230 FOV', 'B1-Calibration HEAD',\n",
       "       'Axial PD/T2 FSE - 48 slices', 'SAG MP-RAGE',\n",
       "       'B1-Calibration Head',\n",
       "       'Axial T2 Star-Repeated with exact copy of FLAIR',\n",
       "       'Sag IR-SPGR-REPEAT', 'MPRAGESAGISOp2ND', '3pl loc FGRE',\n",
       "       'MPRAGE ADNI confirmed REPEAT', 'SAG B1 CALIBRATION BODY',\n",
       "       'SAG B1 CALIBRATION HEAD', 'AX PD-T2', 'SAG 3D MPRAGE',\n",
       "       'REPEAT SAG 3D MPRAGE', 'AX PD-T2, no angle',\n",
       "       'REPEAT SAG 3D MP RAGE', 'AX PD-T2 NO ANGLE',\n",
       "       'REPEAT SAG 3D MP RAGE NO ANGLE', 'SAG 3D MPRAGE NO ANGLE',\n",
       "       'SAG B1 CALIBRATION BODY REPEAT', 'AX PD-T2 REPEAT',\n",
       "       'SAG 3D MPRAGE, no angle', 'MPRAGE NO ANGLE',\n",
       "       'repeat SAG B1 CALIBRATION BODY', 'AX PD-T2 repeat', 'B-LOC',\n",
       "       'AX PD-T2 NO ANGLE REPEAT', 'SAG MPRAGE NO ANGLE',\n",
       "       'AX T2 STAR NO ANGLE', 'SAG MPRAGE GRAPPA2 NO ANGLE',\n",
       "       'AX Field_mapping', 'LOCALIZER 3T', 'B-LOC_S1_ND',\n",
       "       'SAG MP-RAGE REPEAT', 'Axial PD/T2 FSE RPT', 'MPRAGE SENSE repeat',\n",
       "       'Sagittal 3D FLAIR_Repeat', 'Axial T2 Star_REPEAT',\n",
       "       'Field Mapping repeat', 'Sagittal 3D Accelerated MPRAGE_REPEAT',\n",
       "       'Axial T2-Star REPEAT', 'Axial T2-Star repeat',\n",
       "       'Axial T2 Star_Repeat', '3TE Axial T2 Star', 'AX_T2_STAR repeat',\n",
       "       'Accelerated Sagittal MPRAGE REPEAT', '3TE Axial T2 Star REPEAT',\n",
       "       'AXIAL PD-T2 TSE REPEAT', 'Axial PD-T2 TSE RE-POSITIONED',\n",
       "       'Localizer RE-POSITIONED', 'AXIAL T2', 'AXIAL_T2_STAR RPT',\n",
       "       'AXIAL_T2_STAR_repeat', 'Space_3D_T2_FLAIR_sag_p2 REPEAT',\n",
       "       'Axial PD-T2 TSE repeat', 'VWIP Coronal 3D Accelerated MPRAGE',\n",
       "       'MPRAGE ADNI confirmed RPT', 'Space_3D_T2_FLAIR_sag_p2 REPEAT 2',\n",
       "       'Axial PD-T2 TSE confirmed repeat', 'MPRAGE ADNI confirmed repeat',\n",
       "       'MPRAGE ADNI REPEAT', 'Axial PD-T2 TSE RPT confirmed',\n",
       "       'Axial PD-T2 TSE RPTconfirmed', 'MPRAGE ADNI confirmed REPEATX2',\n",
       "       '3D MPRAGE'], dtype=object)"
      ]
     },
     "execution_count": 63,
     "metadata": {},
     "output_type": "execute_result"
    }
   ],
   "source": [
    "#take a look at the different descriptions for the different types of images\n",
    "pd.unique(adni_aibl_and.Description)"
   ]
  },
  {
   "cell_type": "code",
   "execution_count": 85,
   "metadata": {},
   "outputs": [],
   "source": [
    "weightings_and = adni_aibl_and.Imaging_Protocol.apply(weight_filter)\n",
    "weightings_and_t1 = weightings_and.loc[weightings_and.index[weightings_and == 'T1']]\n",
    "weightings_and_t2 = weightings_and.loc[weightings_and.index[weightings_and == 'T2']]\n",
    "weightings_or = adni_aibl_or.Imaging_Protocol.apply(weight_filter)\n",
    "weightings_or_t1 = weightings_or.loc[weightings_or.index[weightings_or == 'T1']]\n",
    "weightings_or_t2 = weightings_or.loc[weightings_or.index[weightings_or == 'T2']]"
   ]
  },
  {
   "cell_type": "code",
   "execution_count": 110,
   "metadata": {},
   "outputs": [
    {
     "data": {
      "text/plain": [
       "22637"
      ]
     },
     "execution_count": 110,
     "metadata": {},
     "output_type": "execute_result"
    }
   ],
   "source": [
    "# now find intersection between the two\n",
    "t1_scans_and = adni_aibl_mri_and_pet.loc[weightings_and_t1.index]\n",
    "t2_scans_and = adni_aibl_mri_and_pet.loc[weightings_and_t2.index]\n",
    "t1_scans_or = adni_aibl_mri_or_pet.loc[weightings_or_t1.index]\n",
    "t2_scans_or = adni_aibl_mri_or_pet.loc[weightings_or_t2.index]\n",
    "len(t2_scans_or)"
   ]
  },
  {
   "cell_type": "code",
   "execution_count": 112,
   "metadata": {},
   "outputs": [
    {
     "data": {
      "text/plain": [
       "22637"
      ]
     },
     "execution_count": 112,
     "metadata": {},
     "output_type": "execute_result"
    }
   ],
   "source": [
    "# now get individuals\n",
    "t1_scans_and = filter_modality(t1_scans_and,'MRI')\n",
    "t2_scans_and = filter_modality(t2_scans_and,'MRI')\n",
    "t1_scans_or = filter_modality(t1_scans_or,'MRI')\n",
    "t2_scans_or = filter_modality(t2_scans_or,'MRI')\n",
    "len(t2_scans_or)"
   ]
  },
  {
   "cell_type": "code",
   "execution_count": 117,
   "metadata": {},
   "outputs": [
    {
     "name": "stdout",
     "output_type": "stream",
     "text": [
      "Number of subjects in and group: 2458, number of subjects in or group:2963\n"
     ]
    }
   ],
   "source": [
    "subjects_and = np.intersect1d(t1_scans_and.Subject_ID,t2_scans_and.Subject_ID)\n",
    "subjects_or = np.intersect1d(t1_scans_or.Subject_ID,t2_scans_or.Subject_ID)\n",
    "print('Number of subjects in ''and'' group: {}, number of subjects in ''or'' group:{}'.format(len(subjects_and),len(subjects_or)))"
   ]
  },
  {
   "cell_type": "code",
   "execution_count": null,
   "metadata": {},
   "outputs": [],
   "source": []
  }
 ],
 "metadata": {
  "kernelspec": {
   "display_name": "Python 3",
   "language": "python",
   "name": "python3"
  },
  "language_info": {
   "codemirror_mode": {
    "name": "ipython",
    "version": 3
   },
   "file_extension": ".py",
   "mimetype": "text/x-python",
   "name": "python",
   "nbconvert_exporter": "python",
   "pygments_lexer": "ipython3",
   "version": "3.7.6"
  }
 },
 "nbformat": 4,
 "nbformat_minor": 4
}
